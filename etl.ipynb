{
 "cells": [
  {
   "cell_type": "markdown",
   "metadata": {
    "editable": true
   },
   "source": [
    "# ETL Processes\n",
    "Use this notebook to develop the ETL process for each of your tables before completing the `etl.py` file to load the whole datasets."
   ]
  },
  {
   "cell_type": "code",
   "execution_count": 1,
   "metadata": {
    "editable": true
   },
   "outputs": [],
   "source": [
    "import os\n",
    "import glob\n",
    "import psycopg2\n",
    "import pandas as pd\n",
    "from sql_queries import *"
   ]
  },
  {
   "cell_type": "code",
   "execution_count": 2,
   "metadata": {
    "editable": true
   },
   "outputs": [],
   "source": [
    "conn = psycopg2.connect(\"host=127.0.0.1 dbname=sparkifydb user=student password=student\")\n",
    "cur = conn.cursor()"
   ]
  },
  {
   "cell_type": "code",
   "execution_count": 3,
   "metadata": {
    "editable": true
   },
   "outputs": [],
   "source": [
    "def get_files(filepath):\n",
    "    all_files = []\n",
    "    for root, dirs, files in os.walk(filepath):\n",
    "        files = glob.glob(os.path.join(root,'*.json'))\n",
    "        for f in files :\n",
    "            all_files.append(os.path.abspath(f))\n",
    "    \n",
    "    return all_files"
   ]
  },
  {
   "cell_type": "markdown",
   "metadata": {
    "editable": true
   },
   "source": [
    "# Process `song_data`\n",
    "In this first part, you'll perform ETL on the first dataset, `song_data`, to create the `songs` and `artists` dimensional tables.\n",
    "\n",
    "Let's perform ETL on a single song file and load a single record into each table to start.\n",
    "- Use the `get_files` function provided above to get a list of all song JSON files in `data/song_data`\n",
    "- Select the first song in this list\n",
    "- Read the song file and view the data"
   ]
  },
  {
   "cell_type": "code",
   "execution_count": 4,
   "metadata": {
    "editable": true
   },
   "outputs": [],
   "source": [
    "song_files = get_files('data/song_data')\n",
    "#print(song_files)"
   ]
  },
  {
   "cell_type": "code",
   "execution_count": 5,
   "metadata": {
    "editable": true
   },
   "outputs": [
    {
     "name": "stdout",
     "output_type": "stream",
     "text": [
      "/home/workspace/data/song_data/A/A/A/TRAAAAW128F429D538.json\n"
     ]
    }
   ],
   "source": [
    "filepath = song_files[0]\n",
    "print(filepath)"
   ]
  },
  {
   "cell_type": "code",
   "execution_count": 6,
   "metadata": {
    "editable": true
   },
   "outputs": [
    {
     "data": {
      "text/plain": [
       "num_songs                            1\n",
       "artist_id           ARD7TVE1187B99BFB1\n",
       "artist_latitude                   None\n",
       "artist_longitude                  None\n",
       "artist_location        California - LA\n",
       "dtype: object"
      ]
     },
     "execution_count": 6,
     "metadata": {},
     "output_type": "execute_result"
    }
   ],
   "source": [
    "df = pd.read_json(filepath, typ='Series')\n",
    "df.head()"
   ]
  },
  {
   "cell_type": "markdown",
   "metadata": {
    "editable": true
   },
   "source": [
    "## #1: `songs` Table\n",
    "#### Extract Data for Songs Table\n",
    "- Select columns for song ID, title, artist ID, year, and duration\n",
    "- Use `df.values` to select just the values from the dataframe\n",
    "- Index to select the first (only) record in the dataframe\n",
    "- Convert the array to a list and set it to `song_data`"
   ]
  },
  {
   "cell_type": "code",
   "execution_count": 7,
   "metadata": {
    "editable": true
   },
   "outputs": [
    {
     "data": {
      "text/plain": [
       "['SOMZWCG12A8C13C480', \"I Didn't Mean To\", 'ARD7TVE1187B99BFB1', 0, 218.93179]"
      ]
     },
     "execution_count": 7,
     "metadata": {},
     "output_type": "execute_result"
    }
   ],
   "source": [
    "#song_data = df[['song_id', 'title','artist_id','year','duration']].values.tolist()[0]\n",
    "song_data = df.filter(items=['song_id', 'title', 'artist_id', 'year', 'duration']).values.tolist()\n",
    "song_data"
   ]
  },
  {
   "cell_type": "markdown",
   "metadata": {
    "editable": true
   },
   "source": [
    "#### Insert Record into Song Table\n",
    "Implement the `song_table_insert` query in `sql_queries.py` and run the cell below to insert a record for this song into the `songs` table. Remember to run `create_tables.py` before running the cell below to ensure you've created/resetted the `songs` table in the sparkify database."
   ]
  },
  {
   "cell_type": "code",
   "execution_count": 8,
   "metadata": {
    "editable": true
   },
   "outputs": [],
   "source": [
    "cur.execute(song_table_insert, song_data)\n",
    "conn.commit()"
   ]
  },
  {
   "cell_type": "markdown",
   "metadata": {
    "editable": true
   },
   "source": [
    "Run `test.ipynb` to see if you've successfully added a record to this table."
   ]
  },
  {
   "cell_type": "markdown",
   "metadata": {
    "editable": true
   },
   "source": [
    "## #2: `artists` Table\n",
    "#### Extract Data for Artists Table\n",
    "- Select columns for artist ID, name, location, latitude, and longitude\n",
    "- Use `df.values` to select just the values from the dataframe\n",
    "- Index to select the first (only) record in the dataframe\n",
    "- Convert the array to a list and set it to `artist_data`"
   ]
  },
  {
   "cell_type": "code",
   "execution_count": 9,
   "metadata": {
    "editable": true
   },
   "outputs": [
    {
     "data": {
      "text/plain": [
       "['ARD7TVE1187B99BFB1', 'Casual', 'California - LA', None, None]"
      ]
     },
     "execution_count": 9,
     "metadata": {},
     "output_type": "execute_result"
    }
   ],
   "source": [
    "artist_data = df.filter(items=['artist_id','artist_name','artist_location','artist_latitude','artist_longitude']).values.tolist()\n",
    "artist_data"
   ]
  },
  {
   "cell_type": "markdown",
   "metadata": {
    "editable": true
   },
   "source": [
    "#### Insert Record into Artist Table\n",
    "Implement the `artist_table_insert` query in `sql_queries.py` and run the cell below to insert a record for this song's artist into the `artists` table. Remember to run `create_tables.py` before running the cell below to ensure you've created/resetted the `artists` table in the sparkify database."
   ]
  },
  {
   "cell_type": "code",
   "execution_count": 10,
   "metadata": {
    "editable": true
   },
   "outputs": [],
   "source": [
    "cur.execute(artist_table_insert, artist_data)\n",
    "conn.commit()"
   ]
  },
  {
   "cell_type": "markdown",
   "metadata": {
    "editable": true
   },
   "source": [
    "Run `test.ipynb` to see if you've successfully added a record to this table."
   ]
  },
  {
   "cell_type": "markdown",
   "metadata": {
    "editable": true
   },
   "source": [
    "# Process `log_data`\n",
    "In this part, you'll perform ETL on the second dataset, `log_data`, to create the `time` and `users` dimensional tables, as well as the `songplays` fact table.\n",
    "\n",
    "Let's perform ETL on a single log file and load a single record into each table.\n",
    "- Use the `get_files` function provided above to get a list of all log JSON files in `data/log_data`\n",
    "- Select the first log file in this list\n",
    "- Read the log file and view the data"
   ]
  },
  {
   "cell_type": "code",
   "execution_count": 11,
   "metadata": {
    "editable": true
   },
   "outputs": [],
   "source": [
    "log_files = get_files(\"data/log_data\")"
   ]
  },
  {
   "cell_type": "code",
   "execution_count": 12,
   "metadata": {
    "editable": true
   },
   "outputs": [
    {
     "name": "stdout",
     "output_type": "stream",
     "text": [
      "/home/workspace/data/log_data/2018/11/2018-11-30-events.json\n"
     ]
    }
   ],
   "source": [
    "filepath = log_files[0]\n",
    "print(filepath)"
   ]
  },
  {
   "cell_type": "code",
   "execution_count": 46,
   "metadata": {
    "editable": true
   },
   "outputs": [
    {
     "data": {
      "text/html": [
       "<div>\n",
       "<style scoped>\n",
       "    .dataframe tbody tr th:only-of-type {\n",
       "        vertical-align: middle;\n",
       "    }\n",
       "\n",
       "    .dataframe tbody tr th {\n",
       "        vertical-align: top;\n",
       "    }\n",
       "\n",
       "    .dataframe thead th {\n",
       "        text-align: right;\n",
       "    }\n",
       "</style>\n",
       "<table border=\"1\" class=\"dataframe\">\n",
       "  <thead>\n",
       "    <tr style=\"text-align: right;\">\n",
       "      <th></th>\n",
       "      <th>artist</th>\n",
       "      <th>auth</th>\n",
       "      <th>firstName</th>\n",
       "      <th>gender</th>\n",
       "      <th>itemInSession</th>\n",
       "      <th>lastName</th>\n",
       "      <th>length</th>\n",
       "      <th>level</th>\n",
       "      <th>location</th>\n",
       "      <th>method</th>\n",
       "      <th>page</th>\n",
       "      <th>registration</th>\n",
       "      <th>sessionId</th>\n",
       "      <th>song</th>\n",
       "      <th>status</th>\n",
       "      <th>ts</th>\n",
       "      <th>userAgent</th>\n",
       "      <th>userId</th>\n",
       "    </tr>\n",
       "  </thead>\n",
       "  <tbody>\n",
       "    <tr>\n",
       "      <th>0</th>\n",
       "      <td>Great Lake Swimmers</td>\n",
       "      <td>Logged In</td>\n",
       "      <td>Kevin</td>\n",
       "      <td>M</td>\n",
       "      <td>0</td>\n",
       "      <td>Arellano</td>\n",
       "      <td>215.11791</td>\n",
       "      <td>free</td>\n",
       "      <td>Harrisburg-Carlisle, PA</td>\n",
       "      <td>PUT</td>\n",
       "      <td>NextSong</td>\n",
       "      <td>1.540007e+12</td>\n",
       "      <td>815</td>\n",
       "      <td>Your Rocky Spine</td>\n",
       "      <td>200</td>\n",
       "      <td>1542931645796</td>\n",
       "      <td>\"Mozilla/5.0 (Macintosh; Intel Mac OS X 10_9_4...</td>\n",
       "      <td>66</td>\n",
       "    </tr>\n",
       "    <tr>\n",
       "      <th>1</th>\n",
       "      <td>Soziedad Alkoholika</td>\n",
       "      <td>Logged In</td>\n",
       "      <td>Kevin</td>\n",
       "      <td>M</td>\n",
       "      <td>1</td>\n",
       "      <td>Arellano</td>\n",
       "      <td>204.74730</td>\n",
       "      <td>free</td>\n",
       "      <td>Harrisburg-Carlisle, PA</td>\n",
       "      <td>PUT</td>\n",
       "      <td>NextSong</td>\n",
       "      <td>1.540007e+12</td>\n",
       "      <td>815</td>\n",
       "      <td>Va Bien</td>\n",
       "      <td>200</td>\n",
       "      <td>1542931860796</td>\n",
       "      <td>\"Mozilla/5.0 (Macintosh; Intel Mac OS X 10_9_4...</td>\n",
       "      <td>66</td>\n",
       "    </tr>\n",
       "    <tr>\n",
       "      <th>2</th>\n",
       "      <td>Franz Ferdinand</td>\n",
       "      <td>Logged In</td>\n",
       "      <td>Kevin</td>\n",
       "      <td>M</td>\n",
       "      <td>2</td>\n",
       "      <td>Arellano</td>\n",
       "      <td>172.01587</td>\n",
       "      <td>free</td>\n",
       "      <td>Harrisburg-Carlisle, PA</td>\n",
       "      <td>PUT</td>\n",
       "      <td>NextSong</td>\n",
       "      <td>1.540007e+12</td>\n",
       "      <td>815</td>\n",
       "      <td>Eleanor Put Your Boots On</td>\n",
       "      <td>200</td>\n",
       "      <td>1542932064796</td>\n",
       "      <td>\"Mozilla/5.0 (Macintosh; Intel Mac OS X 10_9_4...</td>\n",
       "      <td>66</td>\n",
       "    </tr>\n",
       "    <tr>\n",
       "      <th>3</th>\n",
       "      <td>Modest Mouse</td>\n",
       "      <td>Logged In</td>\n",
       "      <td>Kevin</td>\n",
       "      <td>M</td>\n",
       "      <td>3</td>\n",
       "      <td>Arellano</td>\n",
       "      <td>209.52771</td>\n",
       "      <td>free</td>\n",
       "      <td>Harrisburg-Carlisle, PA</td>\n",
       "      <td>PUT</td>\n",
       "      <td>NextSong</td>\n",
       "      <td>1.540007e+12</td>\n",
       "      <td>815</td>\n",
       "      <td>Float On</td>\n",
       "      <td>200</td>\n",
       "      <td>1542932236796</td>\n",
       "      <td>\"Mozilla/5.0 (Macintosh; Intel Mac OS X 10_9_4...</td>\n",
       "      <td>66</td>\n",
       "    </tr>\n",
       "    <tr>\n",
       "      <th>4</th>\n",
       "      <td>Adam Lambert</td>\n",
       "      <td>Logged In</td>\n",
       "      <td>Kevin</td>\n",
       "      <td>M</td>\n",
       "      <td>4</td>\n",
       "      <td>Arellano</td>\n",
       "      <td>266.44853</td>\n",
       "      <td>free</td>\n",
       "      <td>Harrisburg-Carlisle, PA</td>\n",
       "      <td>PUT</td>\n",
       "      <td>NextSong</td>\n",
       "      <td>1.540007e+12</td>\n",
       "      <td>815</td>\n",
       "      <td>Aftermath</td>\n",
       "      <td>200</td>\n",
       "      <td>1542932445796</td>\n",
       "      <td>\"Mozilla/5.0 (Macintosh; Intel Mac OS X 10_9_4...</td>\n",
       "      <td>66</td>\n",
       "    </tr>\n",
       "  </tbody>\n",
       "</table>\n",
       "</div>"
      ],
      "text/plain": [
       "                artist       auth firstName gender  itemInSession  lastName  \\\n",
       "0  Great Lake Swimmers  Logged In     Kevin      M              0  Arellano   \n",
       "1  Soziedad Alkoholika  Logged In     Kevin      M              1  Arellano   \n",
       "2      Franz Ferdinand  Logged In     Kevin      M              2  Arellano   \n",
       "3         Modest Mouse  Logged In     Kevin      M              3  Arellano   \n",
       "4         Adam Lambert  Logged In     Kevin      M              4  Arellano   \n",
       "\n",
       "      length level                 location method      page  registration  \\\n",
       "0  215.11791  free  Harrisburg-Carlisle, PA    PUT  NextSong  1.540007e+12   \n",
       "1  204.74730  free  Harrisburg-Carlisle, PA    PUT  NextSong  1.540007e+12   \n",
       "2  172.01587  free  Harrisburg-Carlisle, PA    PUT  NextSong  1.540007e+12   \n",
       "3  209.52771  free  Harrisburg-Carlisle, PA    PUT  NextSong  1.540007e+12   \n",
       "4  266.44853  free  Harrisburg-Carlisle, PA    PUT  NextSong  1.540007e+12   \n",
       "\n",
       "   sessionId                       song  status             ts  \\\n",
       "0        815           Your Rocky Spine     200  1542931645796   \n",
       "1        815                    Va Bien     200  1542931860796   \n",
       "2        815  Eleanor Put Your Boots On     200  1542932064796   \n",
       "3        815                   Float On     200  1542932236796   \n",
       "4        815                  Aftermath     200  1542932445796   \n",
       "\n",
       "                                           userAgent userId  \n",
       "0  \"Mozilla/5.0 (Macintosh; Intel Mac OS X 10_9_4...     66  \n",
       "1  \"Mozilla/5.0 (Macintosh; Intel Mac OS X 10_9_4...     66  \n",
       "2  \"Mozilla/5.0 (Macintosh; Intel Mac OS X 10_9_4...     66  \n",
       "3  \"Mozilla/5.0 (Macintosh; Intel Mac OS X 10_9_4...     66  \n",
       "4  \"Mozilla/5.0 (Macintosh; Intel Mac OS X 10_9_4...     66  "
      ]
     },
     "execution_count": 46,
     "metadata": {},
     "output_type": "execute_result"
    }
   ],
   "source": [
    "df = pd.read_json(filepath, lines=True,)\n",
    "df.head()"
   ]
  },
  {
   "cell_type": "markdown",
   "metadata": {
    "editable": true
   },
   "source": [
    "## #3: `time` Table\n",
    "#### Extract Data for Time Table\n",
    "- Filter records by `NextSong` action\n",
    "- Convert the `ts` timestamp column to datetime\n",
    "  - Hint: the current timestamp is in milliseconds\n",
    "- Extract the timestamp, hour, day, week of year, month, year, and weekday from the `ts` column and set `time_data` to a list containing these values in order\n",
    "  - Hint: use pandas' [`dt` attribute](https://pandas.pydata.org/pandas-docs/stable/reference/api/pandas.Series.dt.html) to access easily datetimelike properties.\n",
    "- Specify labels for these columns and set to `column_labels`\n",
    "- Create a dataframe, `time_df,` containing the time data for this file by combining `column_labels` and `time_data` into a dictionary and converting this into a dataframe"
   ]
  },
  {
   "cell_type": "code",
   "execution_count": 47,
   "metadata": {
    "editable": true
   },
   "outputs": [
    {
     "data": {
      "text/html": [
       "<div>\n",
       "<style scoped>\n",
       "    .dataframe tbody tr th:only-of-type {\n",
       "        vertical-align: middle;\n",
       "    }\n",
       "\n",
       "    .dataframe tbody tr th {\n",
       "        vertical-align: top;\n",
       "    }\n",
       "\n",
       "    .dataframe thead th {\n",
       "        text-align: right;\n",
       "    }\n",
       "</style>\n",
       "<table border=\"1\" class=\"dataframe\">\n",
       "  <thead>\n",
       "    <tr style=\"text-align: right;\">\n",
       "      <th></th>\n",
       "      <th>artist</th>\n",
       "      <th>auth</th>\n",
       "      <th>firstName</th>\n",
       "      <th>gender</th>\n",
       "      <th>itemInSession</th>\n",
       "      <th>lastName</th>\n",
       "      <th>length</th>\n",
       "      <th>level</th>\n",
       "      <th>location</th>\n",
       "      <th>method</th>\n",
       "      <th>page</th>\n",
       "      <th>registration</th>\n",
       "      <th>sessionId</th>\n",
       "      <th>song</th>\n",
       "      <th>status</th>\n",
       "      <th>ts</th>\n",
       "      <th>userAgent</th>\n",
       "      <th>userId</th>\n",
       "    </tr>\n",
       "  </thead>\n",
       "  <tbody>\n",
       "    <tr>\n",
       "      <th>0</th>\n",
       "      <td>Great Lake Swimmers</td>\n",
       "      <td>Logged In</td>\n",
       "      <td>Kevin</td>\n",
       "      <td>M</td>\n",
       "      <td>0</td>\n",
       "      <td>Arellano</td>\n",
       "      <td>215.11791</td>\n",
       "      <td>free</td>\n",
       "      <td>Harrisburg-Carlisle, PA</td>\n",
       "      <td>PUT</td>\n",
       "      <td>NextSong</td>\n",
       "      <td>1.540007e+12</td>\n",
       "      <td>815</td>\n",
       "      <td>Your Rocky Spine</td>\n",
       "      <td>200</td>\n",
       "      <td>1542931645796</td>\n",
       "      <td>\"Mozilla/5.0 (Macintosh; Intel Mac OS X 10_9_4...</td>\n",
       "      <td>66</td>\n",
       "    </tr>\n",
       "    <tr>\n",
       "      <th>1</th>\n",
       "      <td>Soziedad Alkoholika</td>\n",
       "      <td>Logged In</td>\n",
       "      <td>Kevin</td>\n",
       "      <td>M</td>\n",
       "      <td>1</td>\n",
       "      <td>Arellano</td>\n",
       "      <td>204.74730</td>\n",
       "      <td>free</td>\n",
       "      <td>Harrisburg-Carlisle, PA</td>\n",
       "      <td>PUT</td>\n",
       "      <td>NextSong</td>\n",
       "      <td>1.540007e+12</td>\n",
       "      <td>815</td>\n",
       "      <td>Va Bien</td>\n",
       "      <td>200</td>\n",
       "      <td>1542931860796</td>\n",
       "      <td>\"Mozilla/5.0 (Macintosh; Intel Mac OS X 10_9_4...</td>\n",
       "      <td>66</td>\n",
       "    </tr>\n",
       "    <tr>\n",
       "      <th>2</th>\n",
       "      <td>Franz Ferdinand</td>\n",
       "      <td>Logged In</td>\n",
       "      <td>Kevin</td>\n",
       "      <td>M</td>\n",
       "      <td>2</td>\n",
       "      <td>Arellano</td>\n",
       "      <td>172.01587</td>\n",
       "      <td>free</td>\n",
       "      <td>Harrisburg-Carlisle, PA</td>\n",
       "      <td>PUT</td>\n",
       "      <td>NextSong</td>\n",
       "      <td>1.540007e+12</td>\n",
       "      <td>815</td>\n",
       "      <td>Eleanor Put Your Boots On</td>\n",
       "      <td>200</td>\n",
       "      <td>1542932064796</td>\n",
       "      <td>\"Mozilla/5.0 (Macintosh; Intel Mac OS X 10_9_4...</td>\n",
       "      <td>66</td>\n",
       "    </tr>\n",
       "    <tr>\n",
       "      <th>3</th>\n",
       "      <td>Modest Mouse</td>\n",
       "      <td>Logged In</td>\n",
       "      <td>Kevin</td>\n",
       "      <td>M</td>\n",
       "      <td>3</td>\n",
       "      <td>Arellano</td>\n",
       "      <td>209.52771</td>\n",
       "      <td>free</td>\n",
       "      <td>Harrisburg-Carlisle, PA</td>\n",
       "      <td>PUT</td>\n",
       "      <td>NextSong</td>\n",
       "      <td>1.540007e+12</td>\n",
       "      <td>815</td>\n",
       "      <td>Float On</td>\n",
       "      <td>200</td>\n",
       "      <td>1542932236796</td>\n",
       "      <td>\"Mozilla/5.0 (Macintosh; Intel Mac OS X 10_9_4...</td>\n",
       "      <td>66</td>\n",
       "    </tr>\n",
       "    <tr>\n",
       "      <th>4</th>\n",
       "      <td>Adam Lambert</td>\n",
       "      <td>Logged In</td>\n",
       "      <td>Kevin</td>\n",
       "      <td>M</td>\n",
       "      <td>4</td>\n",
       "      <td>Arellano</td>\n",
       "      <td>266.44853</td>\n",
       "      <td>free</td>\n",
       "      <td>Harrisburg-Carlisle, PA</td>\n",
       "      <td>PUT</td>\n",
       "      <td>NextSong</td>\n",
       "      <td>1.540007e+12</td>\n",
       "      <td>815</td>\n",
       "      <td>Aftermath</td>\n",
       "      <td>200</td>\n",
       "      <td>1542932445796</td>\n",
       "      <td>\"Mozilla/5.0 (Macintosh; Intel Mac OS X 10_9_4...</td>\n",
       "      <td>66</td>\n",
       "    </tr>\n",
       "  </tbody>\n",
       "</table>\n",
       "</div>"
      ],
      "text/plain": [
       "                artist       auth firstName gender  itemInSession  lastName  \\\n",
       "0  Great Lake Swimmers  Logged In     Kevin      M              0  Arellano   \n",
       "1  Soziedad Alkoholika  Logged In     Kevin      M              1  Arellano   \n",
       "2      Franz Ferdinand  Logged In     Kevin      M              2  Arellano   \n",
       "3         Modest Mouse  Logged In     Kevin      M              3  Arellano   \n",
       "4         Adam Lambert  Logged In     Kevin      M              4  Arellano   \n",
       "\n",
       "      length level                 location method      page  registration  \\\n",
       "0  215.11791  free  Harrisburg-Carlisle, PA    PUT  NextSong  1.540007e+12   \n",
       "1  204.74730  free  Harrisburg-Carlisle, PA    PUT  NextSong  1.540007e+12   \n",
       "2  172.01587  free  Harrisburg-Carlisle, PA    PUT  NextSong  1.540007e+12   \n",
       "3  209.52771  free  Harrisburg-Carlisle, PA    PUT  NextSong  1.540007e+12   \n",
       "4  266.44853  free  Harrisburg-Carlisle, PA    PUT  NextSong  1.540007e+12   \n",
       "\n",
       "   sessionId                       song  status             ts  \\\n",
       "0        815           Your Rocky Spine     200  1542931645796   \n",
       "1        815                    Va Bien     200  1542931860796   \n",
       "2        815  Eleanor Put Your Boots On     200  1542932064796   \n",
       "3        815                   Float On     200  1542932236796   \n",
       "4        815                  Aftermath     200  1542932445796   \n",
       "\n",
       "                                           userAgent userId  \n",
       "0  \"Mozilla/5.0 (Macintosh; Intel Mac OS X 10_9_4...     66  \n",
       "1  \"Mozilla/5.0 (Macintosh; Intel Mac OS X 10_9_4...     66  \n",
       "2  \"Mozilla/5.0 (Macintosh; Intel Mac OS X 10_9_4...     66  \n",
       "3  \"Mozilla/5.0 (Macintosh; Intel Mac OS X 10_9_4...     66  \n",
       "4  \"Mozilla/5.0 (Macintosh; Intel Mac OS X 10_9_4...     66  "
      ]
     },
     "execution_count": 47,
     "metadata": {},
     "output_type": "execute_result"
    }
   ],
   "source": [
    "df = df.loc[df['page'] == 'NextSong']\n",
    "df.head()"
   ]
  },
  {
   "cell_type": "code",
   "execution_count": 49,
   "metadata": {
    "editable": true
   },
   "outputs": [
    {
     "data": {
      "text/html": [
       "<div>\n",
       "<style scoped>\n",
       "    .dataframe tbody tr th:only-of-type {\n",
       "        vertical-align: middle;\n",
       "    }\n",
       "\n",
       "    .dataframe tbody tr th {\n",
       "        vertical-align: top;\n",
       "    }\n",
       "\n",
       "    .dataframe thead th {\n",
       "        text-align: right;\n",
       "    }\n",
       "</style>\n",
       "<table border=\"1\" class=\"dataframe\">\n",
       "  <thead>\n",
       "    <tr style=\"text-align: right;\">\n",
       "      <th></th>\n",
       "      <th>artist</th>\n",
       "      <th>auth</th>\n",
       "      <th>firstName</th>\n",
       "      <th>gender</th>\n",
       "      <th>itemInSession</th>\n",
       "      <th>lastName</th>\n",
       "      <th>length</th>\n",
       "      <th>level</th>\n",
       "      <th>location</th>\n",
       "      <th>method</th>\n",
       "      <th>page</th>\n",
       "      <th>registration</th>\n",
       "      <th>sessionId</th>\n",
       "      <th>song</th>\n",
       "      <th>status</th>\n",
       "      <th>ts</th>\n",
       "      <th>userAgent</th>\n",
       "      <th>userId</th>\n",
       "    </tr>\n",
       "  </thead>\n",
       "  <tbody>\n",
       "    <tr>\n",
       "      <th>0</th>\n",
       "      <td>Great Lake Swimmers</td>\n",
       "      <td>Logged In</td>\n",
       "      <td>Kevin</td>\n",
       "      <td>M</td>\n",
       "      <td>0</td>\n",
       "      <td>Arellano</td>\n",
       "      <td>215.11791</td>\n",
       "      <td>free</td>\n",
       "      <td>Harrisburg-Carlisle, PA</td>\n",
       "      <td>PUT</td>\n",
       "      <td>NextSong</td>\n",
       "      <td>1.540007e+12</td>\n",
       "      <td>815</td>\n",
       "      <td>Your Rocky Spine</td>\n",
       "      <td>200</td>\n",
       "      <td>1970-01-01 00:25:42.931645796</td>\n",
       "      <td>\"Mozilla/5.0 (Macintosh; Intel Mac OS X 10_9_4...</td>\n",
       "      <td>66</td>\n",
       "    </tr>\n",
       "    <tr>\n",
       "      <th>1</th>\n",
       "      <td>Soziedad Alkoholika</td>\n",
       "      <td>Logged In</td>\n",
       "      <td>Kevin</td>\n",
       "      <td>M</td>\n",
       "      <td>1</td>\n",
       "      <td>Arellano</td>\n",
       "      <td>204.74730</td>\n",
       "      <td>free</td>\n",
       "      <td>Harrisburg-Carlisle, PA</td>\n",
       "      <td>PUT</td>\n",
       "      <td>NextSong</td>\n",
       "      <td>1.540007e+12</td>\n",
       "      <td>815</td>\n",
       "      <td>Va Bien</td>\n",
       "      <td>200</td>\n",
       "      <td>1970-01-01 00:25:42.931860796</td>\n",
       "      <td>\"Mozilla/5.0 (Macintosh; Intel Mac OS X 10_9_4...</td>\n",
       "      <td>66</td>\n",
       "    </tr>\n",
       "    <tr>\n",
       "      <th>2</th>\n",
       "      <td>Franz Ferdinand</td>\n",
       "      <td>Logged In</td>\n",
       "      <td>Kevin</td>\n",
       "      <td>M</td>\n",
       "      <td>2</td>\n",
       "      <td>Arellano</td>\n",
       "      <td>172.01587</td>\n",
       "      <td>free</td>\n",
       "      <td>Harrisburg-Carlisle, PA</td>\n",
       "      <td>PUT</td>\n",
       "      <td>NextSong</td>\n",
       "      <td>1.540007e+12</td>\n",
       "      <td>815</td>\n",
       "      <td>Eleanor Put Your Boots On</td>\n",
       "      <td>200</td>\n",
       "      <td>1970-01-01 00:25:42.932064796</td>\n",
       "      <td>\"Mozilla/5.0 (Macintosh; Intel Mac OS X 10_9_4...</td>\n",
       "      <td>66</td>\n",
       "    </tr>\n",
       "    <tr>\n",
       "      <th>3</th>\n",
       "      <td>Modest Mouse</td>\n",
       "      <td>Logged In</td>\n",
       "      <td>Kevin</td>\n",
       "      <td>M</td>\n",
       "      <td>3</td>\n",
       "      <td>Arellano</td>\n",
       "      <td>209.52771</td>\n",
       "      <td>free</td>\n",
       "      <td>Harrisburg-Carlisle, PA</td>\n",
       "      <td>PUT</td>\n",
       "      <td>NextSong</td>\n",
       "      <td>1.540007e+12</td>\n",
       "      <td>815</td>\n",
       "      <td>Float On</td>\n",
       "      <td>200</td>\n",
       "      <td>1970-01-01 00:25:42.932236796</td>\n",
       "      <td>\"Mozilla/5.0 (Macintosh; Intel Mac OS X 10_9_4...</td>\n",
       "      <td>66</td>\n",
       "    </tr>\n",
       "    <tr>\n",
       "      <th>4</th>\n",
       "      <td>Adam Lambert</td>\n",
       "      <td>Logged In</td>\n",
       "      <td>Kevin</td>\n",
       "      <td>M</td>\n",
       "      <td>4</td>\n",
       "      <td>Arellano</td>\n",
       "      <td>266.44853</td>\n",
       "      <td>free</td>\n",
       "      <td>Harrisburg-Carlisle, PA</td>\n",
       "      <td>PUT</td>\n",
       "      <td>NextSong</td>\n",
       "      <td>1.540007e+12</td>\n",
       "      <td>815</td>\n",
       "      <td>Aftermath</td>\n",
       "      <td>200</td>\n",
       "      <td>1970-01-01 00:25:42.932445796</td>\n",
       "      <td>\"Mozilla/5.0 (Macintosh; Intel Mac OS X 10_9_4...</td>\n",
       "      <td>66</td>\n",
       "    </tr>\n",
       "  </tbody>\n",
       "</table>\n",
       "</div>"
      ],
      "text/plain": [
       "                artist       auth firstName gender  itemInSession  lastName  \\\n",
       "0  Great Lake Swimmers  Logged In     Kevin      M              0  Arellano   \n",
       "1  Soziedad Alkoholika  Logged In     Kevin      M              1  Arellano   \n",
       "2      Franz Ferdinand  Logged In     Kevin      M              2  Arellano   \n",
       "3         Modest Mouse  Logged In     Kevin      M              3  Arellano   \n",
       "4         Adam Lambert  Logged In     Kevin      M              4  Arellano   \n",
       "\n",
       "      length level                 location method      page  registration  \\\n",
       "0  215.11791  free  Harrisburg-Carlisle, PA    PUT  NextSong  1.540007e+12   \n",
       "1  204.74730  free  Harrisburg-Carlisle, PA    PUT  NextSong  1.540007e+12   \n",
       "2  172.01587  free  Harrisburg-Carlisle, PA    PUT  NextSong  1.540007e+12   \n",
       "3  209.52771  free  Harrisburg-Carlisle, PA    PUT  NextSong  1.540007e+12   \n",
       "4  266.44853  free  Harrisburg-Carlisle, PA    PUT  NextSong  1.540007e+12   \n",
       "\n",
       "   sessionId                       song  status                            ts  \\\n",
       "0        815           Your Rocky Spine     200 1970-01-01 00:25:42.931645796   \n",
       "1        815                    Va Bien     200 1970-01-01 00:25:42.931860796   \n",
       "2        815  Eleanor Put Your Boots On     200 1970-01-01 00:25:42.932064796   \n",
       "3        815                   Float On     200 1970-01-01 00:25:42.932236796   \n",
       "4        815                  Aftermath     200 1970-01-01 00:25:42.932445796   \n",
       "\n",
       "                                           userAgent userId  \n",
       "0  \"Mozilla/5.0 (Macintosh; Intel Mac OS X 10_9_4...     66  \n",
       "1  \"Mozilla/5.0 (Macintosh; Intel Mac OS X 10_9_4...     66  \n",
       "2  \"Mozilla/5.0 (Macintosh; Intel Mac OS X 10_9_4...     66  \n",
       "3  \"Mozilla/5.0 (Macintosh; Intel Mac OS X 10_9_4...     66  \n",
       "4  \"Mozilla/5.0 (Macintosh; Intel Mac OS X 10_9_4...     66  "
      ]
     },
     "execution_count": 49,
     "metadata": {},
     "output_type": "execute_result"
    }
   ],
   "source": [
    "df['ts']= pd.to_datetime(df['ts'], unit='ns').drop_duplicates()\n",
    "#df.ts.unique()\n",
    "df.head()"
   ]
  },
  {
   "cell_type": "code",
   "execution_count": 16,
   "metadata": {
    "editable": true
   },
   "outputs": [],
   "source": [
    "time_data = ([df['ts'], df['ts'].dt.hour,df['ts'].dt.day,df['ts'].dt.week, df['ts'].dt.month, df['ts'].dt.year, df['ts'].dt.weekday_name])\n",
    "column_labels = ('start_time','hour','day','week','month','year','weekday')"
   ]
  },
  {
   "cell_type": "code",
   "execution_count": 50,
   "metadata": {
    "editable": true
   },
   "outputs": [
    {
     "data": {
      "text/html": [
       "<div>\n",
       "<style scoped>\n",
       "    .dataframe tbody tr th:only-of-type {\n",
       "        vertical-align: middle;\n",
       "    }\n",
       "\n",
       "    .dataframe tbody tr th {\n",
       "        vertical-align: top;\n",
       "    }\n",
       "\n",
       "    .dataframe thead th {\n",
       "        text-align: right;\n",
       "    }\n",
       "</style>\n",
       "<table border=\"1\" class=\"dataframe\">\n",
       "  <thead>\n",
       "    <tr style=\"text-align: right;\">\n",
       "      <th></th>\n",
       "      <th>start_time</th>\n",
       "      <th>hour</th>\n",
       "      <th>day</th>\n",
       "      <th>week</th>\n",
       "      <th>month</th>\n",
       "      <th>year</th>\n",
       "      <th>weekday</th>\n",
       "    </tr>\n",
       "  </thead>\n",
       "  <tbody>\n",
       "    <tr>\n",
       "      <th>0</th>\n",
       "      <td>2018-11-30 00:22:07.796</td>\n",
       "      <td>0</td>\n",
       "      <td>30</td>\n",
       "      <td>48</td>\n",
       "      <td>11</td>\n",
       "      <td>2018</td>\n",
       "      <td>Friday</td>\n",
       "    </tr>\n",
       "    <tr>\n",
       "      <th>1</th>\n",
       "      <td>2018-11-30 01:08:41.796</td>\n",
       "      <td>1</td>\n",
       "      <td>30</td>\n",
       "      <td>48</td>\n",
       "      <td>11</td>\n",
       "      <td>2018</td>\n",
       "      <td>Friday</td>\n",
       "    </tr>\n",
       "    <tr>\n",
       "      <th>2</th>\n",
       "      <td>2018-11-30 01:12:48.796</td>\n",
       "      <td>1</td>\n",
       "      <td>30</td>\n",
       "      <td>48</td>\n",
       "      <td>11</td>\n",
       "      <td>2018</td>\n",
       "      <td>Friday</td>\n",
       "    </tr>\n",
       "    <tr>\n",
       "      <th>3</th>\n",
       "      <td>2018-11-30 01:17:05.796</td>\n",
       "      <td>1</td>\n",
       "      <td>30</td>\n",
       "      <td>48</td>\n",
       "      <td>11</td>\n",
       "      <td>2018</td>\n",
       "      <td>Friday</td>\n",
       "    </tr>\n",
       "    <tr>\n",
       "      <th>4</th>\n",
       "      <td>2018-11-30 01:20:56.796</td>\n",
       "      <td>1</td>\n",
       "      <td>30</td>\n",
       "      <td>48</td>\n",
       "      <td>11</td>\n",
       "      <td>2018</td>\n",
       "      <td>Friday</td>\n",
       "    </tr>\n",
       "  </tbody>\n",
       "</table>\n",
       "</div>"
      ],
      "text/plain": [
       "               start_time  hour  day  week  month  year weekday\n",
       "0 2018-11-30 00:22:07.796     0   30    48     11  2018  Friday\n",
       "1 2018-11-30 01:08:41.796     1   30    48     11  2018  Friday\n",
       "2 2018-11-30 01:12:48.796     1   30    48     11  2018  Friday\n",
       "3 2018-11-30 01:17:05.796     1   30    48     11  2018  Friday\n",
       "4 2018-11-30 01:20:56.796     1   30    48     11  2018  Friday"
      ]
     },
     "execution_count": 50,
     "metadata": {},
     "output_type": "execute_result"
    }
   ],
   "source": [
    "time_df = pd.DataFrame(dict(zip(column_labels,time_data))).drop_duplicates()\n",
    "time_df = time_df.where(pd.notnull(time_df)) \n",
    "time_df.head()"
   ]
  },
  {
   "cell_type": "markdown",
   "metadata": {
    "editable": true
   },
   "source": [
    "#### Insert Records into Time Table\n",
    "Implement the `time_table_insert` query in `sql_queries.py` and run the cell below to insert records for the timestamps in this log file into the `time` table. Remember to run `create_tables.py` before running the cell below to ensure you've created/resetted the `time` table in the sparkify database."
   ]
  },
  {
   "cell_type": "code",
   "execution_count": 18,
   "metadata": {
    "editable": true
   },
   "outputs": [],
   "source": [
    "for i, row in time_df.iterrows():\n",
    "    cur.execute(time_table_insert, list(row))\n",
    "    conn.commit()"
   ]
  },
  {
   "cell_type": "markdown",
   "metadata": {
    "editable": true
   },
   "source": [
    "Run `test.ipynb` to see if you've successfully added records to this table."
   ]
  },
  {
   "cell_type": "markdown",
   "metadata": {
    "editable": true
   },
   "source": [
    "## #4: `users` Table\n",
    "#### Extract Data for Users Table\n",
    "- Select columns for user ID, first name, last name, gender and level and set to `user_df`"
   ]
  },
  {
   "cell_type": "code",
   "execution_count": 19,
   "metadata": {
    "editable": true
   },
   "outputs": [
    {
     "data": {
      "text/html": [
       "<div>\n",
       "<style scoped>\n",
       "    .dataframe tbody tr th:only-of-type {\n",
       "        vertical-align: middle;\n",
       "    }\n",
       "\n",
       "    .dataframe tbody tr th {\n",
       "        vertical-align: top;\n",
       "    }\n",
       "\n",
       "    .dataframe thead th {\n",
       "        text-align: right;\n",
       "    }\n",
       "</style>\n",
       "<table border=\"1\" class=\"dataframe\">\n",
       "  <thead>\n",
       "    <tr style=\"text-align: right;\">\n",
       "      <th></th>\n",
       "      <th>userId</th>\n",
       "      <th>firstName</th>\n",
       "      <th>lastName</th>\n",
       "      <th>gender</th>\n",
       "      <th>level</th>\n",
       "    </tr>\n",
       "  </thead>\n",
       "  <tbody>\n",
       "    <tr>\n",
       "      <th>0</th>\n",
       "      <td>91</td>\n",
       "      <td>Jayden</td>\n",
       "      <td>Bell</td>\n",
       "      <td>M</td>\n",
       "      <td>free</td>\n",
       "    </tr>\n",
       "    <tr>\n",
       "      <th>1</th>\n",
       "      <td>73</td>\n",
       "      <td>Jacob</td>\n",
       "      <td>Klein</td>\n",
       "      <td>M</td>\n",
       "      <td>paid</td>\n",
       "    </tr>\n",
       "    <tr>\n",
       "      <th>23</th>\n",
       "      <td>86</td>\n",
       "      <td>Aiden</td>\n",
       "      <td>Hess</td>\n",
       "      <td>M</td>\n",
       "      <td>free</td>\n",
       "    </tr>\n",
       "    <tr>\n",
       "      <th>30</th>\n",
       "      <td>24</td>\n",
       "      <td>Layla</td>\n",
       "      <td>Griffin</td>\n",
       "      <td>F</td>\n",
       "      <td>paid</td>\n",
       "    </tr>\n",
       "    <tr>\n",
       "      <th>40</th>\n",
       "      <td>26</td>\n",
       "      <td>Ryan</td>\n",
       "      <td>Smith</td>\n",
       "      <td>M</td>\n",
       "      <td>free</td>\n",
       "    </tr>\n",
       "  </tbody>\n",
       "</table>\n",
       "</div>"
      ],
      "text/plain": [
       "   userId firstName lastName gender level\n",
       "0      91    Jayden     Bell      M  free\n",
       "1      73     Jacob    Klein      M  paid\n",
       "23     86     Aiden     Hess      M  free\n",
       "30     24     Layla  Griffin      F  paid\n",
       "40     26      Ryan    Smith      M  free"
      ]
     },
     "execution_count": 19,
     "metadata": {},
     "output_type": "execute_result"
    }
   ],
   "source": [
    "user_df = df[['userId', 'firstName', 'lastName', 'gender','level']].drop_duplicates()\n",
    "user_df.head()"
   ]
  },
  {
   "cell_type": "raw",
   "metadata": {
    "editable": true
   },
   "source": [
    "#### Insert Records into Users Table\n",
    "Implement the `user_table_insert` query in `sql_queries.py` and run the cell below to insert records for the users in this log file into the `users` table. Remember to run `create_tables.py` before running the cell below to ensure you've created/resetted the `users` table in the sparkify database."
   ]
  },
  {
   "cell_type": "code",
   "execution_count": 20,
   "metadata": {
    "editable": true
   },
   "outputs": [],
   "source": [
    "for i, row in user_df.iterrows():\n",
    "    cur.execute(user_table_insert, row)\n",
    "    conn.commit()"
   ]
  },
  {
   "cell_type": "markdown",
   "metadata": {
    "editable": true
   },
   "source": [
    "Run `test.ipynb` to see if you've successfully added records to this table."
   ]
  },
  {
   "cell_type": "markdown",
   "metadata": {
    "editable": true
   },
   "source": [
    "## #5: `songplays` Table\n",
    "#### Extract Data and Songplays Table\n",
    "This one is a little more complicated since information from the songs table, artists table, and original log file are all needed for the `songplays` table. Since the log file does not specify an ID for either the song or the artist, you'll need to get the song ID and artist ID by querying the songs and artists tables to find matches based on song title, artist name, and song duration time.\n",
    "- Implement the `song_select` query in `sql_queries.py` to find the song ID and artist ID based on the title, artist name, and duration of a song.\n",
    "- Select the timestamp, user ID, level, song ID, artist ID, session ID, location, and user agent and set to `songplay_data`\n",
    "\n",
    "#### Insert Records into Songplays Table\n",
    "- Implement the `songplay_table_insert` query and run the cell below to insert records for the songplay actions in this log file into the `songplays` table. Remember to run `create_tables.py` before running the cell below to ensure you've created/resetted the `songplays` table in the sparkify database."
   ]
  },
  {
   "cell_type": "code",
   "execution_count": 21,
   "metadata": {
    "editable": true
   },
   "outputs": [],
   "source": [
    "for index, row in df.iterrows():\n",
    "\n",
    "    # get songid and artistid from song and artist tables\n",
    "    cur.execute(song_select, (row.song, row.artist, row.length))\n",
    "    results = cur.fetchone()\n",
    "    \n",
    "    \n",
    "    if results:\n",
    "        songid, artistid = results\n",
    "    else:\n",
    "        songid, artistid = None, None\n",
    "        \n",
    "    # insert songplay record\n",
    "    songplay_data = ([pd.to_datetime(row.ts, unit='ms'), row.userId, row.level, songid, artistid, row.sessionId,row.location,row.userAgent])\n",
    "    try:\n",
    "        cur.execute(songplay_table_insert, songplay_data)\n",
    "        conn.commit()\n",
    "    except:\n",
    "        conn.rollback()"
   ]
  },
  {
   "cell_type": "code",
   "execution_count": 22,
   "metadata": {
    "editable": true
   },
   "outputs": [],
   "source": [
    "# import numpy as np\n",
    "# measurer = np.vectorize(len)\n",
    "# res1 = dict(zip(df, measurer(df.values.astype(str)).max(axis=0)))\n",
    "# res1"
   ]
  },
  {
   "cell_type": "code",
   "execution_count": null,
   "metadata": {
    "editable": true
   },
   "outputs": [],
   "source": []
  },
  {
   "cell_type": "markdown",
   "metadata": {
    "editable": true
   },
   "source": [
    "Run `test.ipynb` to see if you've successfully added records to this table."
   ]
  },
  {
   "cell_type": "markdown",
   "metadata": {
    "editable": true
   },
   "source": [
    "# Close Connection to Sparkify Database"
   ]
  },
  {
   "cell_type": "markdown",
   "metadata": {
    "editable": true
   },
   "source": [
    "conn.close()"
   ]
  },
  {
   "cell_type": "markdown",
   "metadata": {
    "editable": true
   },
   "source": [
    "# Implement `etl.py`\n",
    "Use what you've completed in this notebook to implement `etl.py`."
   ]
  },
  {
   "cell_type": "code",
   "execution_count": null,
   "metadata": {
    "editable": true
   },
   "outputs": [],
   "source": []
  }
 ],
 "metadata": {
  "kernelspec": {
   "display_name": "Python 3",
   "language": "python",
   "name": "python3"
  },
  "language_info": {
   "codemirror_mode": {
    "name": "ipython",
    "version": 3
   },
   "file_extension": ".py",
   "mimetype": "text/x-python",
   "name": "python",
   "nbconvert_exporter": "python",
   "pygments_lexer": "ipython3",
   "version": "3.6.3"
  }
 },
 "nbformat": 4,
 "nbformat_minor": 4
}
